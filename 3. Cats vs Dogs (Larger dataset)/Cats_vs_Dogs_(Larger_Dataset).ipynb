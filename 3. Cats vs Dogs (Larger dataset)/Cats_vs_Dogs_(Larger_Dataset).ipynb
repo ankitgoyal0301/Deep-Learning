{
  "nbformat": 4,
  "nbformat_minor": 0,
  "metadata": {
    "colab": {
      "name": "Cats vs Dogs (Larger Dataset).ipynb",
      "provenance": [],
      "collapsed_sections": []
    },
    "kernelspec": {
      "name": "python3",
      "display_name": "Python 3"
    },
    "accelerator": "GPU"
  },
  "cells": [
    {
      "cell_type": "markdown",
      "metadata": {
        "id": "_XzakLxcqX-Z",
        "colab_type": "text"
      },
      "source": [
        "### Instructions to import dataset from kaggle can be found here:\n",
        "[How to fetch Kaggle Datasets into Google Colab](https://medium.com/analytics-vidhya/how-to-fetch-kaggle-datasets-into-google-colab-ea682569851a)"
      ]
    },
    {
      "cell_type": "markdown",
      "metadata": {
        "id": "51bTsX-O6h-6",
        "colab_type": "text"
      },
      "source": [
        "### Monting Google drive for dataset"
      ]
    },
    {
      "cell_type": "code",
      "metadata": {
        "id": "gLfeJSC-qL8-",
        "colab_type": "code",
        "colab": {
          "base_uri": "https://localhost:8080/",
          "height": 122
        },
        "outputId": "5b422afd-b956-4437-931b-4e44b8efde72"
      },
      "source": [
        "from google.colab import drive\n",
        "drive.mount('/content/gdrive')"
      ],
      "execution_count": 3,
      "outputs": [
        {
          "output_type": "stream",
          "text": [
            "Go to this URL in a browser: https://accounts.google.com/o/oauth2/auth?client_id=947318989803-6bn6qk8qdgf4n4g3pfee6491hc0brc4i.apps.googleusercontent.com&redirect_uri=urn%3aietf%3awg%3aoauth%3a2.0%3aoob&response_type=code&scope=email%20https%3a%2f%2fwww.googleapis.com%2fauth%2fdocs.test%20https%3a%2f%2fwww.googleapis.com%2fauth%2fdrive%20https%3a%2f%2fwww.googleapis.com%2fauth%2fdrive.photos.readonly%20https%3a%2f%2fwww.googleapis.com%2fauth%2fpeopleapi.readonly\n",
            "\n",
            "Enter your authorization code:\n",
            "··········\n",
            "Mounted at /content/gdrive\n"
          ],
          "name": "stdout"
        }
      ]
    },
    {
      "cell_type": "markdown",
      "metadata": {
        "id": "Oy-BSJ7L7AW_",
        "colab_type": "text"
      },
      "source": [
        "### Run the following code to provide the config path to kaggle.json"
      ]
    },
    {
      "cell_type": "code",
      "metadata": {
        "id": "X2SL1Skd6oJ7",
        "colab_type": "code",
        "colab": {}
      },
      "source": [
        "import os\n",
        "os.environ['KAGGLE_CONFIG_DIR'] = \"/content/gdrive/My Drive/Kaggle/Cats-vs-Dogs\"\n",
        "# /content/gdrive/My Drive/Kaggle is the path where kaggle.json is present in the Google Drive"
      ],
      "execution_count": 0,
      "outputs": []
    },
    {
      "cell_type": "markdown",
      "metadata": {
        "id": "xb8gcvBP7LvU",
        "colab_type": "text"
      },
      "source": [
        "### Change your present working directory"
      ]
    },
    {
      "cell_type": "code",
      "metadata": {
        "id": "ZFbsAf9P7GJ8",
        "colab_type": "code",
        "colab": {
          "base_uri": "https://localhost:8080/",
          "height": 34
        },
        "outputId": "e7935aca-209c-4703-bac5-4e010f36e8d1"
      },
      "source": [
        "#changing the working directory\n",
        "%cd /content/gdrive/My Drive/Kaggle/Cats-vs-Dogs\n",
        "#Check the present working directory using pwd command"
      ],
      "execution_count": 5,
      "outputs": [
        {
          "output_type": "stream",
          "text": [
            "/content/gdrive/My Drive/Kaggle/Cats-vs-Dogs\n"
          ],
          "name": "stdout"
        }
      ]
    },
    {
      "cell_type": "markdown",
      "metadata": {
        "id": "802BD_4-7ZoY",
        "colab_type": "text"
      },
      "source": [
        "### Download the kaggle dataset\n",
        "##### - Go to kaggle and copy the API Command to download the dataset\n",
        "![alt text](https://miro.medium.com/max/1400/1*EgvWkUzP0lMoDvxF6tBJLg.png)\n",
        "\n",
        "##### - Your API Command will look like “kaggle datasets download -d datasnaek/youtube-new”\n",
        "##### - Run the following code using ! :\n",
        "`!kaggle datasets download -d datasnaek/youtube-new`\n",
        "\n",
        "##### You can check the content in your directory using ls command as follows:\n",
        "![alt text](https://miro.medium.com/max/1400/1*ftuRmHyIIXQpjTM8-xauRA.png) "
      ]
    },
    {
      "cell_type": "code",
      "metadata": {
        "id": "-687HMYj7Paa",
        "colab_type": "code",
        "colab": {
          "base_uri": "https://localhost:8080/",
          "height": 51
        },
        "outputId": "c7223791-6507-43d7-c2ea-147698abba25"
      },
      "source": [
        "!kaggle kernels pull uysimty/keras-cnn-dog-or-cat-classification"
      ],
      "execution_count": 8,
      "outputs": [
        {
          "output_type": "stream",
          "text": [
            "Warning: Looks like you're using an outdated API Version, please consider updating (server 1.5.6 / client 1.5.4)\n",
            "Source code downloaded to /content/gdrive/My Drive/Kaggle/keras-cnn-dog-or-cat-classification.ipynb\n"
          ],
          "name": "stdout"
        }
      ]
    },
    {
      "cell_type": "markdown",
      "metadata": {
        "id": "1J6a4db5_5mB",
        "colab_type": "text"
      },
      "source": [
        "### API for Cats vs Dogs not available. Manually uploading in required directory."
      ]
    },
    {
      "cell_type": "code",
      "metadata": {
        "id": "A7ABVJCg-xCV",
        "colab_type": "code",
        "colab": {
          "base_uri": "https://localhost:8080/",
          "height": 34
        },
        "outputId": "b3ec2a41-be8a-43b0-dcc8-f65dae6c6768"
      },
      "source": [
        "!ls"
      ],
      "execution_count": 9,
      "outputs": [
        {
          "output_type": "stream",
          "text": [
            "kaggle.json  test1.zip\ttrain.zip\n"
          ],
          "name": "stdout"
        }
      ]
    },
    {
      "cell_type": "markdown",
      "metadata": {
        "id": "xU1Lhca4J6DE",
        "colab_type": "text"
      },
      "source": [
        "### Moving Zip files to \"Cats vs Dogs\" Directory using GDrive"
      ]
    },
    {
      "cell_type": "markdown",
      "metadata": {
        "id": "NqrWngzfh-FE",
        "colab_type": "text"
      },
      "source": [
        "-----------------------------------------------------\n",
        "### Importing libraries"
      ]
    },
    {
      "cell_type": "code",
      "metadata": {
        "id": "fH4fPWXXO19I",
        "colab_type": "code",
        "colab": {}
      },
      "source": [
        "import numpy as np\n",
        "import pandas as pd\n",
        "import tensorflow as tf\n",
        "from keras.preprocessing.image import ImageDataGenerator\n",
        "from sklearn.model_selection import train_test_split\n",
        "import matplotlib.pyplot as plt\n",
        "import os"
      ],
      "execution_count": 0,
      "outputs": []
    },
    {
      "cell_type": "markdown",
      "metadata": {
        "id": "r9_RCYnciZBO",
        "colab_type": "text"
      },
      "source": [
        "### Extracting Zip"
      ]
    },
    {
      "cell_type": "code",
      "metadata": {
        "id": "w_8QUj4EidTt",
        "colab_type": "code",
        "colab": {
          "base_uri": "https://localhost:8080/",
          "height": 34
        },
        "outputId": "ed4d7db2-e46e-4d75-f6a6-dec78c7c49ac"
      },
      "source": [
        "pwd"
      ],
      "execution_count": 11,
      "outputs": [
        {
          "output_type": "execute_result",
          "data": {
            "text/plain": [
              "'/content/gdrive/My Drive/Kaggle/Cats-vs-Dogs'"
            ]
          },
          "metadata": {
            "tags": []
          },
          "execution_count": 11
        }
      ]
    },
    {
      "cell_type": "code",
      "metadata": {
        "id": "mw6fghx9iYCw",
        "colab_type": "code",
        "colab": {}
      },
      "source": [
        "import zipfile\n",
        "\n",
        "location_zip = 'train.zip'\n",
        "zip_ref = zipfile.ZipFile(location_zip,'r')         # Reading ZipFiles\n",
        "zip_ref.extractall()\n",
        "zip_ref.close()   "
      ],
      "execution_count": 0,
      "outputs": []
    },
    {
      "cell_type": "code",
      "metadata": {
        "id": "Jyrl4-AmjEG7",
        "colab_type": "code",
        "colab": {}
      },
      "source": [
        "import zipfile\n",
        "\n",
        "location_zip = 'test1.zip'\n",
        "zip_ref = zipfile.ZipFile(location_zip,'r')         # Reading ZipFiles\n",
        "zip_ref.extractall()\n",
        "zip_ref.close()   "
      ],
      "execution_count": 0,
      "outputs": []
    },
    {
      "cell_type": "markdown",
      "metadata": {
        "id": "Ice28E8U0Ix4",
        "colab_type": "text"
      },
      "source": [
        "### Dividing Training into dogs and cats"
      ]
    },
    {
      "cell_type": "code",
      "metadata": {
        "id": "Rwz404knjzRV",
        "colab_type": "code",
        "colab": {}
      },
      "source": [
        "filenames = os.listdir()\n",
        "categories=[]\n",
        "for f_name in filenames:\n",
        "    category=f_name.split('.')[0]\n",
        "    if category=='dog':\n",
        "        categories.append(1)\n",
        "    else:\n",
        "        categories.append(0)\n",
        "\n",
        "df = pd.DataFrame({\n",
        "    'filename':filenames,\n",
        "    'category':categories\n",
        "})"
      ],
      "execution_count": 0,
      "outputs": []
    },
    {
      "cell_type": "code",
      "metadata": {
        "id": "Bw_UkC-Ilg9C",
        "colab_type": "code",
        "colab": {
          "base_uri": "https://localhost:8080/",
          "height": 34
        },
        "outputId": "832100b3-e771-4136-d35b-dcd02da02002"
      },
      "source": [
        "%cd /content/gdrive/My Drive/Kaggle/Cats-vs-Dogs/train"
      ],
      "execution_count": 16,
      "outputs": [
        {
          "output_type": "stream",
          "text": [
            "/content/gdrive/My Drive/Kaggle/Cats-vs-Dogs/train\n"
          ],
          "name": "stdout"
        }
      ]
    },
    {
      "cell_type": "markdown",
      "metadata": {
        "id": "4CzWU3z70REc",
        "colab_type": "text"
      },
      "source": [
        "### Image dimensions"
      ]
    },
    {
      "cell_type": "code",
      "metadata": {
        "id": "p-1_GPZBkId3",
        "colab_type": "code",
        "colab": {}
      },
      "source": [
        "Image_Width = 150\n",
        "Image_Height = 150\n",
        "Image_Size = (Image_Width,Image_Height)\n",
        "Image_Channels = 3"
      ],
      "execution_count": 0,
      "outputs": []
    },
    {
      "cell_type": "markdown",
      "metadata": {
        "id": "OvaVnLI50UjG",
        "colab_type": "text"
      },
      "source": [
        "### Training and Validation dataframe"
      ]
    },
    {
      "cell_type": "code",
      "metadata": {
        "id": "fdQCWhkak1ox",
        "colab_type": "code",
        "colab": {}
      },
      "source": [
        "df[\"category\"] = df[\"category\"].replace({0:'cat',1:'dog'})\n",
        "\n",
        "train_df , validate_df = train_test_split(df, \n",
        "                                          test_size=0.20,\n",
        "                                          random_state=42\n",
        "                                          )\n",
        "train_df = train_df.reset_index(drop=True)\n",
        "validate_df = validate_df.reset_index(drop=True)\n",
        "total_train = train_df.shape[0]\n",
        "total_validate = validate_df.shape[0]\n",
        "batch_size=20"
      ],
      "execution_count": 0,
      "outputs": []
    },
    {
      "cell_type": "markdown",
      "metadata": {
        "id": "eLOUJgBy0bjx",
        "colab_type": "text"
      },
      "source": [
        "### Data Generators"
      ]
    },
    {
      "cell_type": "code",
      "metadata": {
        "id": "5iAJodDYkT39",
        "colab_type": "code",
        "colab": {
          "base_uri": "https://localhost:8080/",
          "height": 51
        },
        "outputId": "39ff0c17-2e64-46e8-f7f9-b89c5dd4439e"
      },
      "source": [
        "train_datagen = ImageDataGenerator(\n",
        "                  rescale = 1./255,\n",
        "                  rotation_range = 15,\n",
        "                  shear_range = 0.1,\n",
        "                  zoom_range = 0.2,\n",
        "                  horizontal_flip = True,\n",
        "                  width_shift_range = 0.1,\n",
        "                  height_shift_range = 0.1\n",
        "                )\n",
        "\n",
        "train_generator = train_datagen.flow_from_dataframe(\n",
        "                  train_df,\n",
        "                  x_col='filename',\n",
        "                  y_col='category',\n",
        "                  target_size = (150,150),  \n",
        "                  class_mode = 'binary',\n",
        "                  batch_size = batch_size             \n",
        "                ) \n",
        "\n",
        "validation_datagen = ImageDataGenerator(\n",
        "                  rescale = 1./255,\n",
        "                )\n",
        "\n",
        "validation_generator = validation_datagen.flow_from_dataframe(\n",
        "                  validate_df,\n",
        "                  x_col = 'filename',\n",
        "                  y_col = 'category',\n",
        "                  target_size = (150, 150),\n",
        "                  batch_size = batch_size,\n",
        "                  class_mode = 'binary'\n",
        "                )"
      ],
      "execution_count": 23,
      "outputs": [
        {
          "output_type": "stream",
          "text": [
            "Found 20000 validated image filenames belonging to 2 classes.\n",
            "Found 5000 validated image filenames belonging to 2 classes.\n"
          ],
          "name": "stdout"
        }
      ]
    },
    {
      "cell_type": "markdown",
      "metadata": {
        "id": "2GImlqEk0fHk",
        "colab_type": "text"
      },
      "source": [
        "### Defining the same model as earlier"
      ]
    },
    {
      "cell_type": "code",
      "metadata": {
        "id": "ffc_3O89muhk",
        "colab_type": "code",
        "colab": {}
      },
      "source": [
        "model = tf.keras.Sequential([\n",
        "        tf.keras.layers.Conv2D(32,(3,3),activation='relu',input_shape=(150,150,3)),\n",
        "        tf.keras.layers.BatchNormalization(),\n",
        "        tf.keras.layers.MaxPooling2D(2,2),\n",
        "        tf.keras.layers.Dropout(0.25),\n",
        "\n",
        "        tf.keras.layers.Conv2D(64,(3,3),activation='relu'),\n",
        "        tf.keras.layers.BatchNormalization(),\n",
        "        tf.keras.layers.MaxPooling2D(2,2),\n",
        "        tf.keras.layers.Dropout(0.25),\n",
        "\n",
        "        tf.keras.layers.Conv2D(128,(3,3),activation='relu'),\n",
        "        tf.keras.layers.BatchNormalization(),\n",
        "        tf.keras.layers.MaxPooling2D(2,2),\n",
        "        tf.keras.layers.Dropout(0.25),\n",
        "\n",
        "        tf.keras.layers.Conv2D(256,(3,3),activation='relu'),\n",
        "        tf.keras.layers.BatchNormalization(),\n",
        "        tf.keras.layers.MaxPooling2D(2,2),\n",
        "        tf.keras.layers.Dropout(0.25),\n",
        "\n",
        "        tf.keras.layers.Flatten(),\n",
        "        tf.keras.layers.Dense(512,activation='relu'),\n",
        "        tf.keras.layers.BatchNormalization(),\n",
        "        tf.keras.layers.Dropout(0.25),\n",
        "        tf.keras.layers.Dense(1,activation='sigmoid')\n",
        "        ]\n",
        "    )"
      ],
      "execution_count": 0,
      "outputs": []
    },
    {
      "cell_type": "code",
      "metadata": {
        "id": "XN5_51O8nqIB",
        "colab_type": "code",
        "colab": {
          "base_uri": "https://localhost:8080/",
          "height": 867
        },
        "outputId": "238d2d1b-a841-4837-9e62-54c42753a0c9"
      },
      "source": [
        "model.summary()"
      ],
      "execution_count": 29,
      "outputs": [
        {
          "output_type": "stream",
          "text": [
            "Model: \"sequential_1\"\n",
            "_________________________________________________________________\n",
            "Layer (type)                 Output Shape              Param #   \n",
            "=================================================================\n",
            "conv2d_4 (Conv2D)            (None, 148, 148, 32)      896       \n",
            "_________________________________________________________________\n",
            "batch_normalization_5 (Batch (None, 148, 148, 32)      128       \n",
            "_________________________________________________________________\n",
            "max_pooling2d_4 (MaxPooling2 (None, 74, 74, 32)        0         \n",
            "_________________________________________________________________\n",
            "dropout_5 (Dropout)          (None, 74, 74, 32)        0         \n",
            "_________________________________________________________________\n",
            "conv2d_5 (Conv2D)            (None, 72, 72, 64)        18496     \n",
            "_________________________________________________________________\n",
            "batch_normalization_6 (Batch (None, 72, 72, 64)        256       \n",
            "_________________________________________________________________\n",
            "max_pooling2d_5 (MaxPooling2 (None, 36, 36, 64)        0         \n",
            "_________________________________________________________________\n",
            "dropout_6 (Dropout)          (None, 36, 36, 64)        0         \n",
            "_________________________________________________________________\n",
            "conv2d_6 (Conv2D)            (None, 34, 34, 128)       73856     \n",
            "_________________________________________________________________\n",
            "batch_normalization_7 (Batch (None, 34, 34, 128)       512       \n",
            "_________________________________________________________________\n",
            "max_pooling2d_6 (MaxPooling2 (None, 17, 17, 128)       0         \n",
            "_________________________________________________________________\n",
            "dropout_7 (Dropout)          (None, 17, 17, 128)       0         \n",
            "_________________________________________________________________\n",
            "conv2d_7 (Conv2D)            (None, 15, 15, 256)       295168    \n",
            "_________________________________________________________________\n",
            "batch_normalization_8 (Batch (None, 15, 15, 256)       1024      \n",
            "_________________________________________________________________\n",
            "max_pooling2d_7 (MaxPooling2 (None, 7, 7, 256)         0         \n",
            "_________________________________________________________________\n",
            "dropout_8 (Dropout)          (None, 7, 7, 256)         0         \n",
            "_________________________________________________________________\n",
            "flatten_1 (Flatten)          (None, 12544)             0         \n",
            "_________________________________________________________________\n",
            "dense_2 (Dense)              (None, 512)               6423040   \n",
            "_________________________________________________________________\n",
            "batch_normalization_9 (Batch (None, 512)               2048      \n",
            "_________________________________________________________________\n",
            "dropout_9 (Dropout)          (None, 512)               0         \n",
            "_________________________________________________________________\n",
            "dense_3 (Dense)              (None, 1)                 513       \n",
            "=================================================================\n",
            "Total params: 6,815,937\n",
            "Trainable params: 6,813,953\n",
            "Non-trainable params: 1,984\n",
            "_________________________________________________________________\n"
          ],
          "name": "stdout"
        }
      ]
    },
    {
      "cell_type": "markdown",
      "metadata": {
        "id": "UjavNFWf0lI2",
        "colab_type": "text"
      },
      "source": [
        "### Compiling the model"
      ]
    },
    {
      "cell_type": "code",
      "metadata": {
        "id": "L_0xhUYGn1ou",
        "colab_type": "code",
        "colab": {}
      },
      "source": [
        "model.compile(loss='binary_crossentropy',optimizer='rmsprop',metrics=['acc'])"
      ],
      "execution_count": 0,
      "outputs": []
    },
    {
      "cell_type": "markdown",
      "metadata": {
        "id": "Fh0bXIK80n0L",
        "colab_type": "text"
      },
      "source": [
        "### Fitting the model"
      ]
    },
    {
      "cell_type": "code",
      "metadata": {
        "id": "1b230jcIn902",
        "colab_type": "code",
        "colab": {
          "base_uri": "https://localhost:8080/",
          "height": 357
        },
        "outputId": "7fbe0279-4225-4352-8e8f-80d40f0f1a27"
      },
      "source": [
        "history = model.fit(\n",
        "            train_generator,\n",
        "            epochs = 10,\n",
        "            steps_per_epoch = 20000//batch_size,       # steps_per_epoch = total_train_images//batch_size # taking more steps pre epoch due to less data\n",
        "            validation_data = validation_generator,\n",
        "            validation_steps =  5000//batch_size,     # validation_steps = total_validation_images//batch_size\n",
        "            verbose = 1\n",
        "          )"
      ],
      "execution_count": 32,
      "outputs": [
        {
          "output_type": "stream",
          "text": [
            "Epoch 1/10\n",
            "1000/1000 [==============================] - 221s 221ms/step - loss: 0.4174 - acc: 0.8098 - val_loss: 0.4250 - val_acc: 0.8040\n",
            "Epoch 2/10\n",
            "1000/1000 [==============================] - 222s 222ms/step - loss: 0.3750 - acc: 0.8353 - val_loss: 0.2981 - val_acc: 0.8710\n",
            "Epoch 3/10\n",
            "1000/1000 [==============================] - 222s 222ms/step - loss: 0.3399 - acc: 0.8499 - val_loss: 0.2751 - val_acc: 0.8826\n",
            "Epoch 4/10\n",
            "1000/1000 [==============================] - 221s 221ms/step - loss: 0.3169 - acc: 0.8636 - val_loss: 0.2739 - val_acc: 0.8858\n",
            "Epoch 5/10\n",
            "1000/1000 [==============================] - 231s 231ms/step - loss: 0.2974 - acc: 0.8744 - val_loss: 0.2334 - val_acc: 0.9114\n",
            "Epoch 6/10\n",
            "1000/1000 [==============================] - 213s 213ms/step - loss: 0.2875 - acc: 0.8789 - val_loss: 0.2403 - val_acc: 0.9098\n",
            "Epoch 7/10\n",
            "1000/1000 [==============================] - 211s 211ms/step - loss: 0.2800 - acc: 0.8821 - val_loss: 0.2813 - val_acc: 0.8826\n",
            "Epoch 8/10\n",
            "1000/1000 [==============================] - 212s 212ms/step - loss: 0.2656 - acc: 0.8907 - val_loss: 0.1882 - val_acc: 0.9242\n",
            "Epoch 9/10\n",
            "1000/1000 [==============================] - 212s 212ms/step - loss: 0.2646 - acc: 0.8897 - val_loss: 0.2579 - val_acc: 0.9000\n",
            "Epoch 10/10\n",
            "1000/1000 [==============================] - 211s 211ms/step - loss: 0.2500 - acc: 0.8948 - val_loss: 0.2796 - val_acc: 0.8806\n"
          ],
          "name": "stdout"
        }
      ]
    },
    {
      "cell_type": "markdown",
      "metadata": {
        "id": "YavLqDiB0rih",
        "colab_type": "text"
      },
      "source": [
        "### Visualising the model accuracy "
      ]
    },
    {
      "cell_type": "code",
      "metadata": {
        "id": "bDEM56ProOuQ",
        "colab_type": "code",
        "colab": {
          "base_uri": "https://localhost:8080/",
          "height": 545
        },
        "outputId": "b1b451b8-1308-436d-e833-3f59be08167b"
      },
      "source": [
        "import matplotlib.pyplot as plt\n",
        "acc = history.history['acc']\n",
        "val_acc = history.history['val_acc']\n",
        "loss = history.history['loss']\n",
        "val_loss = history.history['val_loss']\n",
        "\n",
        "epochs = range(len(acc))\n",
        "\n",
        "plt.plot(epochs, acc, 'b', label='Training accuracy')\n",
        "plt.plot(epochs, val_acc, 'r', label='Validation accuracy')\n",
        "plt.title('Training and validation accuracy')\n",
        "plt.legend()\n",
        "\n",
        "plt.figure()\n",
        "\n",
        "plt.plot(epochs, loss, 'b', label='Training Loss')\n",
        "plt.plot(epochs, val_loss, 'r', label='Validation Loss')\n",
        "plt.title('Training and validation loss')\n",
        "plt.legend()\n",
        "\n",
        "plt.show()"
      ],
      "execution_count": 33,
      "outputs": [
        {
          "output_type": "display_data",
          "data": {
            "image/png": "[encoded data removed]",
            "text/plain": [
              "<Figure size 432x288 with 1 Axes>"
            ]
          },
          "metadata": {
            "tags": [],
            "needs_background": "light"
          }
        },
        {
          "output_type": "display_data",
          "data": {
            "image/png": "[encoded data removed]",
            "text/plain": [
              "<Figure size 432x288 with 1 Axes>"
            ]
          },
          "metadata": {
            "tags": [],
            "needs_background": "light"
          }
        }
      ]
    },
    {
      "cell_type": "markdown",
      "metadata": {
        "id": "KLrhTZMUynkk",
        "colab_type": "text"
      },
      "source": [
        "### To save the model:\n",
        "\n",
        "\n",
        "```\n",
        " model.save(\"model1_catsVSdogs_10epoch.h5\")\n",
        "```\n",
        "\n"
      ]
    },
    {
      "cell_type": "markdown",
      "metadata": {
        "id": "ukJt5xlfzKIF",
        "colab_type": "text"
      },
      "source": [
        "## Model did alot better even in 10 epochs!"
      ]
    }
  ]
}