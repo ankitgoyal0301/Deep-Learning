{
  "nbformat": 4,
  "nbformat_minor": 0,
  "metadata": {
    "colab": {
      "name": "CIFAR-10.ipynb",
      "provenance": [],
      "collapsed_sections": []
    },
    "kernelspec": {
      "name": "python3",
      "display_name": "Python 3"
    },
    "accelerator": "GPU"
  },
  "cells": [
    {
      "cell_type": "markdown",
      "metadata": {
        "id": "W1qSPTfoFEG3",
        "colab_type": "text"
      },
      "source": [
        "### Import Libraries"
      ]
    },
    {
      "cell_type": "code",
      "metadata": {
        "id": "_oxiSrC3ByCo",
        "colab_type": "code",
        "colab": {}
      },
      "source": [
        "import tensorflow as tf\n",
        "from tensorflow.keras.preprocessing.image import ImageDataGenerator\n",
        "import os"
      ],
      "execution_count": 0,
      "outputs": []
    },
    {
      "cell_type": "markdown",
      "metadata": {
        "id": "UXURRYk6FJEx",
        "colab_type": "text"
      },
      "source": [
        "### Importing dataset"
      ]
    },
    {
      "cell_type": "code",
      "metadata": {
        "id": "yUPWHG0nCHfx",
        "colab_type": "code",
        "colab": {}
      },
      "source": [
        "from keras.datasets import cifar10"
      ],
      "execution_count": 0,
      "outputs": []
    },
    {
      "cell_type": "code",
      "metadata": {
        "id": "rbX_DAZVEeP_",
        "colab_type": "code",
        "colab": {
          "base_uri": "https://localhost:8080/",
          "height": 51
        },
        "outputId": "615ca22e-26f1-4352-ce7f-cb4d9dce4be0"
      },
      "source": [
        "(x_train, y_train), (x_test,y_test) = cifar10.load_data()"
      ],
      "execution_count": 7,
      "outputs": [
        {
          "output_type": "stream",
          "text": [
            "Downloading data from https://www.cs.toronto.edu/~kriz/cifar-10-python.tar.gz\n",
            "170500096/170498071 [==============================] - 2s 0us/step\n"
          ],
          "name": "stdout"
        }
      ]
    },
    {
      "cell_type": "code",
      "metadata": {
        "id": "2f1BiS_RLyrq",
        "colab_type": "code",
        "colab": {
          "base_uri": "https://localhost:8080/",
          "height": 51
        },
        "outputId": "c4de1601-7029-4ac5-f210-ec746b0068a2"
      },
      "source": [
        "print(x_train.shape,y_train.shape)\n",
        "print(x_test.shape,y_test.shape)"
      ],
      "execution_count": 15,
      "outputs": [
        {
          "output_type": "stream",
          "text": [
            "(50000, 32, 32, 3) (50000, 1)\n",
            "(10000, 32, 32, 3) (10000, 1)\n"
          ],
          "name": "stdout"
        }
      ]
    },
    {
      "cell_type": "code",
      "metadata": {
        "id": "mzA05kHkLv28",
        "colab_type": "code",
        "colab": {}
      },
      "source": [
        "NUM_CLASSES = 10\n",
        "cifar10_classes = [\"airplane\", \"automobile\", \"bird\", \"cat\", \"deer\", \n",
        "                   \"dog\", \"frog\", \"horse\", \"ship\", \"truck\"]"
      ],
      "execution_count": 0,
      "outputs": []
    },
    {
      "cell_type": "markdown",
      "metadata": {
        "id": "6_0LoJVdGW_N",
        "colab_type": "text"
      },
      "source": [
        "### Making Image Generator objects"
      ]
    },
    {
      "cell_type": "code",
      "metadata": {
        "id": "jvcIlLNGE0Mk",
        "colab_type": "code",
        "colab": {}
      },
      "source": [
        "train_datagen = ImageDataGenerator(\n",
        "                  rescale = 1.0/255,\n",
        "                  horizontal_flip = True,\n",
        "                  rotation_range = 20,\n",
        "                  shear_range = 0.15,\n",
        "                  width_shift_range = 0.1,\n",
        "                  height_shift_range = 0.1,\n",
        "                  zoom_range = 0.2 \n",
        "                )\n",
        "training_generator = train_datagen.flow(\n",
        "                  x_train,\n",
        "                  y_train,\n",
        "                  batch_size = 32\n",
        "                )\n",
        "validation_datagen = ImageDataGenerator(\n",
        "                  rescale = 1.0/255 \n",
        "                )\n",
        "validation_generator = validation_datagen.flow(\n",
        "                  x_test,\n",
        "                  y_test,\n",
        "                  batch_size = 32\n",
        "                )"
      ],
      "execution_count": 0,
      "outputs": []
    },
    {
      "cell_type": "markdown",
      "metadata": {
        "id": "5lGVUm23bjdS",
        "colab_type": "text"
      },
      "source": [
        "### Creating a Model"
      ]
    },
    {
      "cell_type": "markdown",
      "metadata": {
        "id": "1Iu1UBIPeG_e",
        "colab_type": "text"
      },
      "source": [
        "#### Don't use Dropout in Convolution layers. Use them only in Fully connected layers(0.5-0.7). If adding in conv layer, use smaller values(0.1-0.2)."
      ]
    },
    {
      "cell_type": "code",
      "metadata": {
        "id": "PkRP9bmDGvVs",
        "colab_type": "code",
        "colab": {}
      },
      "source": [
        "model = tf.keras.Sequential([\n",
        "        tf.keras.layers.Conv2D(64,(3,3),activation='relu',input_shape=(32,32,3)),\n",
        "        tf.keras.layers.BatchNormalization(),\n",
        "        tf.keras.layers.MaxPooling2D(2,2),\n",
        "\n",
        "        tf.keras.layers.Conv2D(128,(3,3),activation='relu'),\n",
        "        tf.keras.layers.BatchNormalization(),\n",
        "        tf.keras.layers.MaxPooling2D(2,2),\n",
        "\n",
        "        tf.keras.layers.Conv2D(256,(3,3),activation='relu'),\n",
        "        tf.keras.layers.BatchNormalization(),\n",
        "        tf.keras.layers.MaxPooling2D(2,2),\n",
        "\n",
        "        # tf.keras.layers.Conv2D(512,(1,1),activation='relu'),\n",
        "        # tf.keras.layers.BatchNormalization(),\n",
        "        # tf.keras.layers.MaxPooling2D(2,2),\n",
        "\n",
        "        tf.keras.layers.Flatten(),\n",
        "        tf.keras.layers.Dense(128,activation='relu'),\n",
        "        tf.keras.layers.BatchNormalization(),\n",
        "        tf.keras.layers.Dropout(0.4),\n",
        "\n",
        "        tf.keras.layers.Dense(256,activation='relu'),\n",
        "        tf.keras.layers.BatchNormalization(),\n",
        "        tf.keras.layers.Dropout(0.4),\n",
        "\n",
        "        tf.keras.layers.Dense(512,activation='relu'),\n",
        "        tf.keras.layers.BatchNormalization(),\n",
        "        tf.keras.layers.Dropout(0.4),\n",
        "\n",
        "        tf.keras.layers.Dense(1024,activation='relu'),\n",
        "        tf.keras.layers.BatchNormalization(),\n",
        "        tf.keras.layers.Dropout(0.4),\n",
        "\n",
        "        tf.keras.layers.Dense(10,activation='softmax')\n",
        "        ]\n",
        "    )"
      ],
      "execution_count": 0,
      "outputs": []
    },
    {
      "cell_type": "code",
      "metadata": {
        "id": "N4PKO3osmxCC",
        "colab_type": "code",
        "colab": {
          "base_uri": "https://localhost:8080/",
          "height": 935
        },
        "outputId": "0d4be86b-fac7-4454-ded2-4f9ed0843cbb"
      },
      "source": [
        "model.summary()"
      ],
      "execution_count": 38,
      "outputs": [
        {
          "output_type": "stream",
          "text": [
            "Model: \"sequential_7\"\n",
            "_________________________________________________________________\n",
            "Layer (type)                 Output Shape              Param #   \n",
            "=================================================================\n",
            "conv2d_25 (Conv2D)           (None, 30, 30, 64)        1792      \n",
            "_________________________________________________________________\n",
            "batch_normalization_53 (Batc (None, 30, 30, 64)        256       \n",
            "_________________________________________________________________\n",
            "max_pooling2d_25 (MaxPooling (None, 15, 15, 64)        0         \n",
            "_________________________________________________________________\n",
            "conv2d_26 (Conv2D)           (None, 13, 13, 128)       73856     \n",
            "_________________________________________________________________\n",
            "batch_normalization_54 (Batc (None, 13, 13, 128)       512       \n",
            "_________________________________________________________________\n",
            "max_pooling2d_26 (MaxPooling (None, 6, 6, 128)         0         \n",
            "_________________________________________________________________\n",
            "conv2d_27 (Conv2D)           (None, 4, 4, 256)         295168    \n",
            "_________________________________________________________________\n",
            "batch_normalization_55 (Batc (None, 4, 4, 256)         1024      \n",
            "_________________________________________________________________\n",
            "max_pooling2d_27 (MaxPooling (None, 2, 2, 256)         0         \n",
            "_________________________________________________________________\n",
            "flatten_7 (Flatten)          (None, 1024)              0         \n",
            "_________________________________________________________________\n",
            "dense_35 (Dense)             (None, 128)               131200    \n",
            "_________________________________________________________________\n",
            "batch_normalization_56 (Batc (None, 128)               512       \n",
            "_________________________________________________________________\n",
            "dropout_28 (Dropout)         (None, 128)               0         \n",
            "_________________________________________________________________\n",
            "dense_36 (Dense)             (None, 256)               33024     \n",
            "_________________________________________________________________\n",
            "batch_normalization_57 (Batc (None, 256)               1024      \n",
            "_________________________________________________________________\n",
            "dropout_29 (Dropout)         (None, 256)               0         \n",
            "_________________________________________________________________\n",
            "dense_37 (Dense)             (None, 512)               131584    \n",
            "_________________________________________________________________\n",
            "batch_normalization_58 (Batc (None, 512)               2048      \n",
            "_________________________________________________________________\n",
            "dropout_30 (Dropout)         (None, 512)               0         \n",
            "_________________________________________________________________\n",
            "dense_38 (Dense)             (None, 1024)              525312    \n",
            "_________________________________________________________________\n",
            "batch_normalization_59 (Batc (None, 1024)              4096      \n",
            "_________________________________________________________________\n",
            "dropout_31 (Dropout)         (None, 1024)              0         \n",
            "_________________________________________________________________\n",
            "dense_39 (Dense)             (None, 10)                10250     \n",
            "=================================================================\n",
            "Total params: 1,211,658\n",
            "Trainable params: 1,206,922\n",
            "Non-trainable params: 4,736\n",
            "_________________________________________________________________\n"
          ],
          "name": "stdout"
        }
      ]
    },
    {
      "cell_type": "markdown",
      "metadata": {
        "id": "0UXRnScKiBY3",
        "colab_type": "text"
      },
      "source": [
        "### Compiling the Model"
      ]
    },
    {
      "cell_type": "code",
      "metadata": {
        "id": "ND0E8S5nf7CJ",
        "colab_type": "code",
        "colab": {}
      },
      "source": [
        "model.compile(optimizer='adam',loss='categorical_crossentropy',metrics=['acc'])"
      ],
      "execution_count": 0,
      "outputs": []
    },
    {
      "cell_type": "markdown",
      "metadata": {
        "id": "QJckw0ABiEcZ",
        "colab_type": "text"
      },
      "source": [
        "### Fitting the model"
      ]
    },
    {
      "cell_type": "code",
      "metadata": {
        "id": "mtpfiWJWh_wj",
        "colab_type": "code",
        "colab": {
          "base_uri": "https://localhost:8080/",
          "height": 357
        },
        "outputId": "c556c068-f234-4126-f0d2-1c6cc2ee5262"
      },
      "source": [
        "history = model.fit(\n",
        "            training_generator,\n",
        "            epochs = 10,\n",
        "            steps_per_epoch = 50000//32,\n",
        "            validation_data = validation_generator,\n",
        "            validation_steps =  10000//32,\n",
        "            verbose = 1\n",
        "          )"
      ],
      "execution_count": 40,
      "outputs": [
        {
          "output_type": "stream",
          "text": [
            "Epoch 1/10\n",
            "1562/1562 [==============================] - 53s 34ms/step - loss: 208.1575 - acc: 0.0799 - val_loss: 123.8643 - val_acc: 0.0053\n",
            "Epoch 2/10\n",
            "1562/1562 [==============================] - 51s 33ms/step - loss: 420.0487 - acc: 0.0754 - val_loss: 187.7982 - val_acc: 0.0011\n",
            "Epoch 3/10\n",
            "1562/1562 [==============================] - 52s 33ms/step - loss: 632.1597 - acc: 0.0752 - val_loss: 151.7367 - val_acc: 0.0622\n",
            "Epoch 4/10\n",
            "1562/1562 [==============================] - 52s 34ms/step - loss: 837.7741 - acc: 0.0775 - val_loss: 176.1640 - val_acc: 0.0310\n",
            "Epoch 5/10\n",
            "1562/1562 [==============================] - 52s 33ms/step - loss: 1036.1346 - acc: 0.0801 - val_loss: 234.5235 - val_acc: 0.0012\n",
            "Epoch 6/10\n",
            "1562/1562 [==============================] - 52s 33ms/step - loss: 1229.1787 - acc: 0.0787 - val_loss: 290.2404 - val_acc: 0.0000e+00\n",
            "Epoch 7/10\n",
            "1562/1562 [==============================] - 52s 33ms/step - loss: 1412.3590 - acc: 0.0820 - val_loss: 248.2666 - val_acc: 0.0669\n",
            "Epoch 8/10\n",
            "1562/1562 [==============================] - 51s 33ms/step - loss: 1602.0225 - acc: 0.0825 - val_loss: 215.6588 - val_acc: 0.0124\n",
            "Epoch 9/10\n",
            "1562/1562 [==============================] - 51s 33ms/step - loss: 1803.0911 - acc: 0.0818 - val_loss: 188.5988 - val_acc: 0.0211\n",
            "Epoch 10/10\n",
            "1562/1562 [==============================] - 52s 33ms/step - loss: 1982.6227 - acc: 0.0828 - val_loss: 173.0567 - val_acc: 0.0398\n"
          ],
          "name": "stdout"
        }
      ]
    },
    {
      "cell_type": "code",
      "metadata": {
        "id": "g6oB-H9xitux",
        "colab_type": "code",
        "colab": {
          "base_uri": "https://localhost:8080/",
          "height": 545
        },
        "outputId": "a980cc17-a4d8-4369-ee9b-7883656113b8"
      },
      "source": [
        "import matplotlib.pyplot as plt\n",
        "acc = history.history['acc']\n",
        "val_acc = history.history['val_acc']\n",
        "loss = history.history['loss']\n",
        "val_loss = history.history['val_loss']\n",
        "\n",
        "epochs = range(len(acc))\n",
        "\n",
        "plt.plot(epochs, acc, 'b', label='Training accuracy')\n",
        "plt.plot(epochs, val_acc, 'r', label='Validation accuracy')\n",
        "plt.title('Training and validation accuracy')\n",
        "plt.legend()\n",
        "\n",
        "plt.figure()\n",
        "\n",
        "plt.plot(epochs, loss, 'b', label='Training Loss')\n",
        "plt.plot(epochs, val_loss, 'r', label='Validation Loss')\n",
        "plt.title('Training and validation loss')\n",
        "plt.legend()\n",
        "\n",
        "plt.show()"
      ],
      "execution_count": 41,
      "outputs": [
        {
          "output_type": "display_data",
          "data": {
            "image/png": "[encoded data removed]",
            "text/plain": [
              "<Figure size 432x288 with 1 Axes>"
            ]
          },
          "metadata": {
            "tags": [],
            "needs_background": "light"
          }
        },
        {
          "output_type": "display_data",
          "data": {
            "image/png": "[encoded data removed]",
            "text/plain": [
              "<Figure size 432x288 with 1 Axes>"
            ]
          },
          "metadata": {
            "tags": [],
            "needs_background": "light"
          }
        }
      ]
    },
    {
      "cell_type": "markdown",
      "metadata": {
        "id": "rLSWNHu_roi2",
        "colab_type": "text"
      },
      "source": [
        "### Totally Unexpected behavior encountered!!!\n",
        "\n",
        "## NEXT GOAL: Try debugging the cause of such behavior"
      ]
    },
    {
      "cell_type": "code",
      "metadata": {
        "id": "EnFZJzkLrjnp",
        "colab_type": "code",
        "colab": {}
      },
      "source": [
        ""
      ],
      "execution_count": 0,
      "outputs": []
    }
  ]
}