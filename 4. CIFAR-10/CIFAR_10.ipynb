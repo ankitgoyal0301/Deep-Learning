{
  "nbformat": 4,
  "nbformat_minor": 0,
  "metadata": {
    "colab": {
      "name": "CIFAR-10.ipynb",
      "provenance": [],
      "collapsed_sections": []
    },
    "kernelspec": {
      "name": "python3",
      "display_name": "Python 3"
    },
    "accelerator": "GPU"
  },
  "cells": [
    {
      "cell_type": "markdown",
      "metadata": {
        "id": "W1qSPTfoFEG3",
        "colab_type": "text"
      },
      "source": [
        "### Import Libraries"
      ]
    },
    {
      "cell_type": "code",
      "metadata": {
        "id": "_oxiSrC3ByCo",
        "colab_type": "code",
        "colab": {}
      },
      "source": [
        "import tensorflow as tf\n",
        "from tensorflow.keras.preprocessing.image import ImageDataGenerator\n",
        "import os"
      ],
      "execution_count": 0,
      "outputs": []
    },
    {
      "cell_type": "markdown",
      "metadata": {
        "id": "UXURRYk6FJEx",
        "colab_type": "text"
      },
      "source": [
        "### Importing dataset"
      ]
    },
    {
      "cell_type": "code",
      "metadata": {
        "id": "yUPWHG0nCHfx",
        "colab_type": "code",
        "colab": {
          "base_uri": "https://localhost:8080/",
          "height": 34
        },
        "outputId": "17442cd7-7d3c-444c-dcc9-099f9ae996d0"
      },
      "source": [
        "from keras.datasets import cifar10"
      ],
      "execution_count": 2,
      "outputs": [
        {
          "output_type": "stream",
          "text": [
            "Using TensorFlow backend.\n"
          ],
          "name": "stderr"
        }
      ]
    },
    {
      "cell_type": "code",
      "metadata": {
        "id": "rbX_DAZVEeP_",
        "colab_type": "code",
        "colab": {}
      },
      "source": [
        "(x_train, y_train), (x_test,y_test) = cifar10.load_data()"
      ],
      "execution_count": 0,
      "outputs": []
    },
    {
      "cell_type": "code",
      "metadata": {
        "id": "2f1BiS_RLyrq",
        "colab_type": "code",
        "outputId": "c5d2b148-4be6-4e23-84f2-ccc82caf4b85",
        "colab": {
          "base_uri": "https://localhost:8080/",
          "height": 51
        }
      },
      "source": [
        "print(x_train.shape,y_train.shape)\n",
        "print(x_test.shape,y_test.shape)"
      ],
      "execution_count": 4,
      "outputs": [
        {
          "output_type": "stream",
          "text": [
            "(50000, 32, 32, 3) (50000, 1)\n",
            "(10000, 32, 32, 3) (10000, 1)\n"
          ],
          "name": "stdout"
        }
      ]
    },
    {
      "cell_type": "code",
      "metadata": {
        "id": "ogpXfbL2VK6z",
        "colab_type": "code",
        "colab": {
          "base_uri": "https://localhost:8080/",
          "height": 136
        },
        "outputId": "884993be-f002-48ac-cec7-d7ea497d3906"
      },
      "source": [
        "print(y_test)"
      ],
      "execution_count": 5,
      "outputs": [
        {
          "output_type": "stream",
          "text": [
            "[[3]\n",
            " [8]\n",
            " [8]\n",
            " ...\n",
            " [5]\n",
            " [1]\n",
            " [7]]\n"
          ],
          "name": "stdout"
        }
      ]
    },
    {
      "cell_type": "code",
      "metadata": {
        "id": "mzA05kHkLv28",
        "colab_type": "code",
        "colab": {}
      },
      "source": [
        "NUM_CLASSES = 10\n",
        "cifar10_classes = [\"airplane\", \"automobile\", \"bird\", \"cat\", \"deer\", \n",
        "                   \"dog\", \"frog\", \"horse\", \"ship\", \"truck\"]"
      ],
      "execution_count": 0,
      "outputs": []
    },
    {
      "cell_type": "markdown",
      "metadata": {
        "id": "6_0LoJVdGW_N",
        "colab_type": "text"
      },
      "source": [
        "### Normalising The input"
      ]
    },
    {
      "cell_type": "code",
      "metadata": {
        "id": "jvcIlLNGE0Mk",
        "colab_type": "code",
        "colab": {}
      },
      "source": [
        "x_train = x_train/255.0\n",
        "x_test = x_test/255.0"
      ],
      "execution_count": 0,
      "outputs": []
    },
    {
      "cell_type": "markdown",
      "metadata": {
        "id": "5lGVUm23bjdS",
        "colab_type": "text"
      },
      "source": [
        "### Creating a Model"
      ]
    },
    {
      "cell_type": "markdown",
      "metadata": {
        "id": "1Iu1UBIPeG_e",
        "colab_type": "text"
      },
      "source": [
        "#### Don't use Dropout in Convolution layers. Use them only in Fully connected layers(0.5-0.7). If adding in conv layer, use smaller values(0.1-0.2)."
      ]
    },
    {
      "cell_type": "code",
      "metadata": {
        "id": "PkRP9bmDGvVs",
        "colab_type": "code",
        "colab": {}
      },
      "source": [
        "model = tf.keras.Sequential([\n",
        "        tf.keras.layers.Conv2D(64,(3,3),activation='relu',input_shape=(32,32,3)),\n",
        "        tf.keras.layers.BatchNormalization(),\n",
        "        tf.keras.layers.MaxPooling2D(2,2),\n",
        "\n",
        "        tf.keras.layers.Conv2D(128,(3,3),activation='relu'),\n",
        "        tf.keras.layers.BatchNormalization(),\n",
        "        tf.keras.layers.MaxPooling2D(2,2),\n",
        "\n",
        "        tf.keras.layers.Conv2D(256,(3,3),activation='relu'),\n",
        "        tf.keras.layers.BatchNormalization(),\n",
        "        tf.keras.layers.MaxPooling2D(2,2),\n",
        "\n",
        "        # tf.keras.layers.Conv2D(512,(1,1),activation='relu'),\n",
        "        # tf.keras.layers.BatchNormalization(),\n",
        "        # tf.keras.layers.MaxPooling2D(2,2),\n",
        "\n",
        "        tf.keras.layers.Flatten(),\n",
        "        tf.keras.layers.Dense(128,activation='relu'),\n",
        "        tf.keras.layers.Dropout(0.4),\n",
        "        tf.keras.layers.BatchNormalization(),\n",
        "\n",
        "        tf.keras.layers.Dense(256,activation='relu'),\n",
        "        tf.keras.layers.Dropout(0.4),\n",
        "        tf.keras.layers.BatchNormalization(),\n",
        "\n",
        "        tf.keras.layers.Dense(512,activation='relu'),\n",
        "        tf.keras.layers.Dropout(0.4),\n",
        "        tf.keras.layers.BatchNormalization(),\n",
        "\n",
        "        tf.keras.layers.Dense(1024,activation='relu'),\n",
        "        tf.keras.layers.Dropout(0.4),\n",
        "        tf.keras.layers.BatchNormalization(),\n",
        "\n",
        "        tf.keras.layers.Dense(10,activation='softmax')\n",
        "        ]\n",
        "    )"
      ],
      "execution_count": 0,
      "outputs": []
    },
    {
      "cell_type": "code",
      "metadata": {
        "id": "N4PKO3osmxCC",
        "colab_type": "code",
        "outputId": "969ea9d3-050f-4cb3-c606-ab3bf9ffe75c",
        "colab": {
          "base_uri": "https://localhost:8080/",
          "height": 935
        }
      },
      "source": [
        "model.summary()"
      ],
      "execution_count": 9,
      "outputs": [
        {
          "output_type": "stream",
          "text": [
            "Model: \"sequential\"\n",
            "_________________________________________________________________\n",
            "Layer (type)                 Output Shape              Param #   \n",
            "=================================================================\n",
            "conv2d (Conv2D)              (None, 30, 30, 64)        1792      \n",
            "_________________________________________________________________\n",
            "batch_normalization (BatchNo (None, 30, 30, 64)        256       \n",
            "_________________________________________________________________\n",
            "max_pooling2d (MaxPooling2D) (None, 15, 15, 64)        0         \n",
            "_________________________________________________________________\n",
            "conv2d_1 (Conv2D)            (None, 13, 13, 128)       73856     \n",
            "_________________________________________________________________\n",
            "batch_normalization_1 (Batch (None, 13, 13, 128)       512       \n",
            "_________________________________________________________________\n",
            "max_pooling2d_1 (MaxPooling2 (None, 6, 6, 128)         0         \n",
            "_________________________________________________________________\n",
            "conv2d_2 (Conv2D)            (None, 4, 4, 256)         295168    \n",
            "_________________________________________________________________\n",
            "batch_normalization_2 (Batch (None, 4, 4, 256)         1024      \n",
            "_________________________________________________________________\n",
            "max_pooling2d_2 (MaxPooling2 (None, 2, 2, 256)         0         \n",
            "_________________________________________________________________\n",
            "flatten (Flatten)            (None, 1024)              0         \n",
            "_________________________________________________________________\n",
            "dense (Dense)                (None, 128)               131200    \n",
            "_________________________________________________________________\n",
            "dropout (Dropout)            (None, 128)               0         \n",
            "_________________________________________________________________\n",
            "batch_normalization_3 (Batch (None, 128)               512       \n",
            "_________________________________________________________________\n",
            "dense_1 (Dense)              (None, 256)               33024     \n",
            "_________________________________________________________________\n",
            "dropout_1 (Dropout)          (None, 256)               0         \n",
            "_________________________________________________________________\n",
            "batch_normalization_4 (Batch (None, 256)               1024      \n",
            "_________________________________________________________________\n",
            "dense_2 (Dense)              (None, 512)               131584    \n",
            "_________________________________________________________________\n",
            "dropout_2 (Dropout)          (None, 512)               0         \n",
            "_________________________________________________________________\n",
            "batch_normalization_5 (Batch (None, 512)               2048      \n",
            "_________________________________________________________________\n",
            "dense_3 (Dense)              (None, 1024)              525312    \n",
            "_________________________________________________________________\n",
            "dropout_3 (Dropout)          (None, 1024)              0         \n",
            "_________________________________________________________________\n",
            "batch_normalization_6 (Batch (None, 1024)              4096      \n",
            "_________________________________________________________________\n",
            "dense_4 (Dense)              (None, 10)                10250     \n",
            "=================================================================\n",
            "Total params: 1,211,658\n",
            "Trainable params: 1,206,922\n",
            "Non-trainable params: 4,736\n",
            "_________________________________________________________________\n"
          ],
          "name": "stdout"
        }
      ]
    },
    {
      "cell_type": "markdown",
      "metadata": {
        "id": "0UXRnScKiBY3",
        "colab_type": "text"
      },
      "source": [
        "### Compiling the Model"
      ]
    },
    {
      "cell_type": "code",
      "metadata": {
        "id": "ND0E8S5nf7CJ",
        "colab_type": "code",
        "colab": {}
      },
      "source": [
        "model.compile(optimizer='adam',loss='sparse_categorical_crossentropy',metrics=['acc'])"
      ],
      "execution_count": 0,
      "outputs": []
    },
    {
      "cell_type": "markdown",
      "metadata": {
        "id": "QJckw0ABiEcZ",
        "colab_type": "text"
      },
      "source": [
        "### Defining Callback Function"
      ]
    },
    {
      "cell_type": "code",
      "metadata": {
        "id": "LTwhZYRkcpOX",
        "colab_type": "code",
        "colab": {}
      },
      "source": [
        "class myCallBack(tf.keras.callbacks.Callback):\n",
        "  def on_epoch_end(self,epoch,logs={}):\n",
        "    if(logs.get('acc')>0.95):\n",
        "      self.model_stop_training = True"
      ],
      "execution_count": 0,
      "outputs": []
    },
    {
      "cell_type": "code",
      "metadata": {
        "id": "wIVJHb0cdB8J",
        "colab_type": "code",
        "colab": {}
      },
      "source": [
        "callbacks = myCallBack()"
      ],
      "execution_count": 0,
      "outputs": []
    },
    {
      "cell_type": "markdown",
      "metadata": {
        "id": "BcNvsMpqr-tH",
        "colab_type": "text"
      },
      "source": [
        "### Fitting the model"
      ]
    },
    {
      "cell_type": "code",
      "metadata": {
        "id": "mtpfiWJWh_wj",
        "colab_type": "code",
        "outputId": "2d57cb64-1325-4446-83d4-21666d903702",
        "colab": {
          "base_uri": "https://localhost:8080/",
          "height": 1000
        }
      },
      "source": [
        "history = model.fit(\n",
        "            x = x_train, y = y_train,\n",
        "            epochs = 30,\n",
        "            validation_data = (x_test,y_test),\n",
        "            verbose = 1,\n",
        "            callbacks = [callbacks]\n",
        "          )"
      ],
      "execution_count": 14,
      "outputs": [
        {
          "output_type": "stream",
          "text": [
            "Epoch 1/30\n",
            "1563/1563 [==============================] - 14s 9ms/step - loss: 1.8937 - acc: 0.3410 - val_loss: 1.4946 - val_acc: 0.4605\n",
            "Epoch 2/30\n",
            "1563/1563 [==============================] - 14s 9ms/step - loss: 1.3857 - acc: 0.5110 - val_loss: 1.3916 - val_acc: 0.5039\n",
            "Epoch 3/30\n",
            "1563/1563 [==============================] - 13s 9ms/step - loss: 1.1898 - acc: 0.5867 - val_loss: 1.1166 - val_acc: 0.6096\n",
            "Epoch 4/30\n",
            "1563/1563 [==============================] - 13s 9ms/step - loss: 1.0464 - acc: 0.6445 - val_loss: 1.0303 - val_acc: 0.6495\n",
            "Epoch 5/30\n",
            "1563/1563 [==============================] - 13s 9ms/step - loss: 0.9531 - acc: 0.6782 - val_loss: 1.0347 - val_acc: 0.6482\n",
            "Epoch 6/30\n",
            "1563/1563 [==============================] - 14s 9ms/step - loss: 0.8507 - acc: 0.7172 - val_loss: 1.1280 - val_acc: 0.6273\n",
            "Epoch 7/30\n",
            "1563/1563 [==============================] - 13s 9ms/step - loss: 0.7731 - acc: 0.7445 - val_loss: 1.0475 - val_acc: 0.6423\n",
            "Epoch 8/30\n",
            "1563/1563 [==============================] - 14s 9ms/step - loss: 0.7144 - acc: 0.7632 - val_loss: 0.9130 - val_acc: 0.6870\n",
            "Epoch 9/30\n",
            "1563/1563 [==============================] - 14s 9ms/step - loss: 0.6433 - acc: 0.7864 - val_loss: 0.7902 - val_acc: 0.7404\n",
            "Epoch 10/30\n",
            "1563/1563 [==============================] - 14s 9ms/step - loss: 0.5868 - acc: 0.8079 - val_loss: 0.7410 - val_acc: 0.7556\n",
            "Epoch 11/30\n",
            "1563/1563 [==============================] - 14s 9ms/step - loss: 0.5352 - acc: 0.8240 - val_loss: 0.8437 - val_acc: 0.7293\n",
            "Epoch 12/30\n",
            "1563/1563 [==============================] - 14s 9ms/step - loss: 0.4933 - acc: 0.8374 - val_loss: 0.9644 - val_acc: 0.6942\n",
            "Epoch 13/30\n",
            "1563/1563 [==============================] - 14s 9ms/step - loss: 0.4540 - acc: 0.8515 - val_loss: 0.8937 - val_acc: 0.7205\n",
            "Epoch 14/30\n",
            "1563/1563 [==============================] - 13s 9ms/step - loss: 0.4162 - acc: 0.8614 - val_loss: 0.9181 - val_acc: 0.7188\n",
            "Epoch 15/30\n",
            "1563/1563 [==============================] - 14s 9ms/step - loss: 0.3807 - acc: 0.8746 - val_loss: 0.8850 - val_acc: 0.7229\n",
            "Epoch 16/30\n",
            "1563/1563 [==============================] - 14s 9ms/step - loss: 0.3486 - acc: 0.8861 - val_loss: 1.0616 - val_acc: 0.7054\n",
            "Epoch 17/30\n",
            "1563/1563 [==============================] - 14s 9ms/step - loss: 0.3263 - acc: 0.8914 - val_loss: 0.8708 - val_acc: 0.7401\n",
            "Epoch 18/30\n",
            "1563/1563 [==============================] - 14s 9ms/step - loss: 0.2999 - acc: 0.9019 - val_loss: 0.8021 - val_acc: 0.7563\n",
            "Epoch 19/30\n",
            "1563/1563 [==============================] - 14s 9ms/step - loss: 0.2732 - acc: 0.9106 - val_loss: 0.9177 - val_acc: 0.7326\n",
            "Epoch 20/30\n",
            "1563/1563 [==============================] - 14s 9ms/step - loss: 0.2601 - acc: 0.9145 - val_loss: 0.9836 - val_acc: 0.7256\n",
            "Epoch 21/30\n",
            "1563/1563 [==============================] - 14s 9ms/step - loss: 0.2484 - acc: 0.9197 - val_loss: 0.8246 - val_acc: 0.7582\n",
            "Epoch 22/30\n",
            "1563/1563 [==============================] - 14s 9ms/step - loss: 0.2242 - acc: 0.9263 - val_loss: 0.9057 - val_acc: 0.7480\n",
            "Epoch 23/30\n",
            "1563/1563 [==============================] - 14s 9ms/step - loss: 0.2284 - acc: 0.9259 - val_loss: 0.8602 - val_acc: 0.7619\n",
            "Epoch 24/30\n",
            "1563/1563 [==============================] - 14s 9ms/step - loss: 0.1919 - acc: 0.9371 - val_loss: 0.8921 - val_acc: 0.7576\n",
            "Epoch 25/30\n",
            "1563/1563 [==============================] - 14s 9ms/step - loss: 0.1924 - acc: 0.9369 - val_loss: 1.0817 - val_acc: 0.7217\n",
            "Epoch 26/30\n",
            "1563/1563 [==============================] - 13s 9ms/step - loss: 0.1787 - acc: 0.9403 - val_loss: 0.9402 - val_acc: 0.7551\n",
            "Epoch 27/30\n",
            "1563/1563 [==============================] - 14s 9ms/step - loss: 0.1735 - acc: 0.9445 - val_loss: 0.9446 - val_acc: 0.7632\n",
            "Epoch 28/30\n",
            "1563/1563 [==============================] - 14s 9ms/step - loss: 0.1616 - acc: 0.9462 - val_loss: 1.4641 - val_acc: 0.6514\n",
            "Epoch 29/30\n",
            "1563/1563 [==============================] - 14s 9ms/step - loss: 0.1586 - acc: 0.9492 - val_loss: 1.0587 - val_acc: 0.7308\n",
            "Epoch 30/30\n",
            "1563/1563 [==============================] - 14s 9ms/step - loss: 0.1544 - acc: 0.9502 - val_loss: 1.0250 - val_acc: 0.7408\n"
          ],
          "name": "stdout"
        }
      ]
    },
    {
      "cell_type": "markdown",
      "metadata": {
        "id": "qlYB0Au5sBUf",
        "colab_type": "text"
      },
      "source": [
        "### Visualising our model accuracy"
      ]
    },
    {
      "cell_type": "code",
      "metadata": {
        "id": "g6oB-H9xitux",
        "colab_type": "code",
        "outputId": "ec8a534c-0bc5-4235-b4a2-e33cccfbc1a7",
        "colab": {
          "base_uri": "https://localhost:8080/",
          "height": 545
        }
      },
      "source": [
        "import matplotlib.pyplot as plt\n",
        "acc = history.history['acc']\n",
        "val_acc = history.history['val_acc']\n",
        "loss = history.history['loss']\n",
        "val_loss = history.history['val_loss']\n",
        "\n",
        "epochs = range(len(acc))\n",
        "\n",
        "plt.plot(epochs, acc, 'b', label='Training accuracy')\n",
        "plt.plot(epochs, val_acc, 'r', label='Validation accuracy')\n",
        "plt.title('Training and validation accuracy')\n",
        "plt.legend()\n",
        "\n",
        "plt.figure()\n",
        "\n",
        "plt.plot(epochs, loss, 'b', label='Training Loss')\n",
        "plt.plot(epochs, val_loss, 'r', label='Validation Loss')\n",
        "plt.title('Training and validation loss')\n",
        "plt.legend()\n",
        "\n",
        "plt.show()"
      ],
      "execution_count": 15,
      "outputs": [
        {
          "output_type": "display_data",
          "data": {
            "image/png": "[encoded data removed]",
            "text/plain": [
              "<Figure size 432x288 with 1 Axes>"
            ]
          },
          "metadata": {
            "tags": [],
            "needs_background": "light"
          }
        },
        {
          "output_type": "display_data",
          "data": {
            "image/png": "[encoded data removed]",
            "text/plain": [
              "<Figure size 432x288 with 1 Axes>"
            ]
          },
          "metadata": {
            "tags": [],
            "needs_background": "light"
          }
        }
      ]
    },
    {
      "cell_type": "markdown",
      "metadata": {
        "id": "rLSWNHu_roi2",
        "colab_type": "text"
      },
      "source": [
        "### Totally Unexpected behavior(Increasing loss and decreasing accuracy) encountered earlier was due to wrong loss function and wrong ImageDataGenerator definition"
      ]
    },
    {
      "cell_type": "markdown",
      "metadata": {
        "id": "EhPXBgV5foTC",
        "colab_type": "text"
      },
      "source": [
        "## Introducing Data Augmentation (it might help)"
      ]
    },
    {
      "cell_type": "code",
      "metadata": {
        "id": "EnFZJzkLrjnp",
        "colab_type": "code",
        "colab": {}
      },
      "source": [
        "(x_train, y_train), (x_test,y_test) = cifar10.load_data()"
      ],
      "execution_count": 0,
      "outputs": []
    },
    {
      "cell_type": "code",
      "metadata": {
        "id": "Kb-UHmmcXTk6",
        "colab_type": "code",
        "colab": {}
      },
      "source": [
        "train_datagen = ImageDataGenerator(\n",
        "                  rescale = 1.0/255,\n",
        "                  horizontal_flip = True,\n",
        "                  rotation_range = 20,\n",
        "                  shear_range = 0.15,\n",
        "                  width_shift_range = 0.1,\n",
        "                  height_shift_range = 0.1,\n",
        "                  zoom_range = 0.2 \n",
        "                )\n",
        "training_generator = train_datagen.flow(\n",
        "                  x_train,\n",
        "                  y_train,\n",
        "                  batch_size = 20\n",
        "                )\n",
        "validation_datagen = ImageDataGenerator(\n",
        "                  rescale = 1.0/255 \n",
        "                )\n",
        "validation_generator = validation_datagen.flow(\n",
        "                  x_test,\n",
        "                  y_test,\n",
        "                  batch_size = 20\n",
        "                )"
      ],
      "execution_count": 0,
      "outputs": []
    },
    {
      "cell_type": "code",
      "metadata": {
        "id": "CLIVCs5WXa85",
        "colab_type": "code",
        "colab": {}
      },
      "source": [
        "model.compile(optimizer='adam',loss='sparse_categorical_crossentropy',metrics=['acc'])"
      ],
      "execution_count": 0,
      "outputs": []
    },
    {
      "cell_type": "code",
      "metadata": {
        "id": "8rCkJjwrXiDK",
        "colab_type": "code",
        "colab": {
          "base_uri": "https://localhost:8080/",
          "height": 357
        },
        "outputId": "7b375448-3cb6-41ce-c851-81dcb7e06d95"
      },
      "source": [
        "history = model.fit(\n",
        "            training_generator,\n",
        "            epochs = 10,\n",
        "            steps_per_epoch = 50000//20,\n",
        "            validation_data = validation_generator,\n",
        "            validation_steps =  10000//20,\n",
        "            verbose = 1\n",
        "          )\n"
      ],
      "execution_count": 33,
      "outputs": [
        {
          "output_type": "stream",
          "text": [
            "Epoch 1/10\n",
            "2500/2500 [==============================] - 48s 19ms/step - loss: 1.1714 - acc: 0.1013 - val_loss: 0.8294 - val_acc: 0.0984\n",
            "Epoch 2/10\n",
            "2500/2500 [==============================] - 48s 19ms/step - loss: 1.0713 - acc: 0.1013 - val_loss: 0.8634 - val_acc: 0.1224\n",
            "Epoch 3/10\n",
            "2500/2500 [==============================] - 48s 19ms/step - loss: 1.0141 - acc: 0.1007 - val_loss: 0.7821 - val_acc: 0.1027\n",
            "Epoch 4/10\n",
            "2500/2500 [==============================] - 48s 19ms/step - loss: 1.0062 - acc: 0.1024 - val_loss: 0.8446 - val_acc: 0.1124\n",
            "Epoch 5/10\n",
            "2500/2500 [==============================] - 47s 19ms/step - loss: 0.9756 - acc: 0.1031 - val_loss: 0.7358 - val_acc: 0.1108\n",
            "Epoch 6/10\n",
            "2500/2500 [==============================] - 49s 20ms/step - loss: 0.9603 - acc: 0.1019 - val_loss: 0.6730 - val_acc: 0.1064\n",
            "Epoch 7/10\n",
            "2500/2500 [==============================] - 48s 19ms/step - loss: 0.9384 - acc: 0.1019 - val_loss: 0.7052 - val_acc: 0.1037\n",
            "Epoch 8/10\n",
            "2500/2500 [==============================] - 48s 19ms/step - loss: 0.9266 - acc: 0.1024 - val_loss: 0.7981 - val_acc: 0.0723\n",
            "Epoch 9/10\n",
            "2500/2500 [==============================] - 47s 19ms/step - loss: 0.9253 - acc: 0.1025 - val_loss: 0.6317 - val_acc: 0.1172\n",
            "Epoch 10/10\n",
            "2500/2500 [==============================] - 48s 19ms/step - loss: 0.9048 - acc: 0.1023 - val_loss: 0.6514 - val_acc: 0.1147\n"
          ],
          "name": "stdout"
        }
      ]
    },
    {
      "cell_type": "code",
      "metadata": {
        "id": "XJr0NZLyrwld",
        "colab_type": "code",
        "colab": {
          "base_uri": "https://localhost:8080/",
          "height": 545
        },
        "outputId": "65f5e42e-8917-48b9-b00c-91c62b4563b9"
      },
      "source": [
        "import matplotlib.pyplot as plt\n",
        "acc = history.history['acc']\n",
        "val_acc = history.history['val_acc']\n",
        "loss = history.history['loss']\n",
        "val_loss = history.history['val_loss']\n",
        "\n",
        "epochs = range(len(acc))\n",
        "\n",
        "plt.plot(epochs, acc, 'b', label='Training accuracy')\n",
        "plt.plot(epochs, val_acc, 'r', label='Validation accuracy')\n",
        "plt.title('Training and validation accuracy')\n",
        "plt.legend()\n",
        "\n",
        "plt.figure()\n",
        "\n",
        "plt.plot(epochs, loss, 'b', label='Training Loss')\n",
        "plt.plot(epochs, val_loss, 'r', label='Validation Loss')\n",
        "plt.title('Training and validation loss')\n",
        "plt.legend()\n",
        "\n",
        "plt.show()"
      ],
      "execution_count": 34,
      "outputs": [
        {
          "output_type": "display_data",
          "data": {
            "image/png": "[encoded data removed]",
            "text/plain": [
              "<Figure size 432x288 with 1 Axes>"
            ]
          },
          "metadata": {
            "tags": [],
            "needs_background": "light"
          }
        },
        {
          "output_type": "display_data",
          "data": {
            "image/png": "[encoded data removed]",
            "text/plain": [
              "<Figure size 432x288 with 1 Axes>"
            ]
          },
          "metadata": {
            "tags": [],
            "needs_background": "light"
          }
        }
      ]
    },
    {
      "cell_type": "markdown",
      "metadata": {
        "id": "eL8WKnH_rsp8",
        "colab_type": "text"
      },
      "source": [
        "### Data Augmentation Didn't helped us :("
      ]
    }
  ]
}